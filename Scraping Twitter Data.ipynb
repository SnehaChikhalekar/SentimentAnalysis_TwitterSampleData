{
 "cells": [
  {
   "cell_type": "code",
   "execution_count": 1,
   "metadata": {},
   "outputs": [],
   "source": [
    "import json\n",
    "import csv\n",
    "import tweepy\n",
    "import re"
   ]
  },
  {
   "cell_type": "code",
   "execution_count": 2,
   "metadata": {},
   "outputs": [],
   "source": [
    "import pandas as pd\n",
    "import numpy as np"
   ]
  },
  {
   "cell_type": "code",
   "execution_count": 12,
   "metadata": {},
   "outputs": [],
   "source": [
    "#!pip install tweepy"
   ]
  },
  {
   "cell_type": "markdown",
   "metadata": {},
   "source": [
    "## Get the content from Twitter API"
   ]
  },
  {
   "cell_type": "code",
   "execution_count": 3,
   "metadata": {},
   "outputs": [],
   "source": [
    "\"\"\"\n",
    "INPUTS:\n",
    "    consumer_key, consumer_secret, access_token, access_token_secret: codes \n",
    "    telling twitter that we are authorized to access this data\n",
    "    hashtag_phrase: the combination of hashtags to search for\n",
    "OUTPUTS:\n",
    "    none, simply save the tweet info to a spreadsheet\n",
    "\"\"\"\n",
    "def search_for_hashtags(consumer_key, consumer_secret, access_token, access_token_secret, hashtag_phrase):\n",
    "    \n",
    "    #create authentication for accessing Twitter\n",
    "    auth = tweepy.OAuthHandler(consumer_key, consumer_secret)\n",
    "    auth.set_access_token(access_token, access_token_secret)\n",
    "\n",
    "    #initialize Tweepy API\n",
    "    api = tweepy.API(auth)\n",
    "    \n",
    "    #get the name of the spreadsheet we will write to\n",
    "    fname = '_'.join(re.findall(r\"#(\\w+)\", hashtag_phrase))\n",
    "    \n",
    "    ls=[]\n",
    "    for tweet in tweepy.Cursor(api.search, q=hashtag_phrase+' -filter:retweets', \\\n",
    "                                   lang=\"en\", tweet_mode='extended').items(60):\n",
    "         ls.append([tweet.created_at, tweet.full_text.replace('\\n',' ').encode('utf-8').decode(), tweet.user.screen_name.encode('utf-8').decode(), [e['text'] for e in tweet._json['entities']['hashtags']], tweet.user.followers_count])\n",
    "    return ls"
   ]
  },
  {
   "cell_type": "code",
   "execution_count": 4,
   "metadata": {
    "scrolled": false
   },
   "outputs": [],
   "source": [
    "import sys\n",
    "consumer_key = \"jFWAxHs4E02tO5jeBpleLCKry\"\n",
    "consumer_secret = \"rlYaMztapJggVVZ4IpzaS1rykdI1Bqk6MeEgeS6Gz9it8oKP1B\"\n",
    "access_token = \"4459940535-ny2IKAaSVjxDmtw5EMT9Lnj6SQgIrQT2sDOqY5T\"\n",
    "access_token_secret = \"Rsk2wvNu7g4CsSv8r89KQxRubSFm2YAe7uy8nZOf8LpGQ\"\n",
    "    \n",
    "hashtag_phrase = \"#370 AND #kashmir\"\n",
    "\n",
    "if __name__ == '__main__':\n",
    "    new_ls=search_for_hashtags(consumer_key, consumer_secret, access_token, access_token_secret, hashtag_phrase)"
   ]
  },
  {
   "cell_type": "code",
   "execution_count": 5,
   "metadata": {},
   "outputs": [
    {
     "data": {
      "text/plain": [
       "[[datetime.datetime(2019, 10, 7, 21, 36, 42),\n",
       "  'Kashmir: In #BurhanWani’s Home, No One Speaks Of Article 370  An afternoon with Burhan Wani’s family, post #Article370  #LetKashmirSpeak  @UN @antonioguterres @FedericaMog @MBachelet @UNHumanRights @HRW @MushaalMullick @peaceforchange @SoStarMusic #Kashmir https://t.co/rMTrkZ7roY',\n",
       "  'HumanRightsPath',\n",
       "  ['BurhanWani', 'Article370', 'LetKashmirSpeak', 'Kashmir'],\n",
       "  18485],\n",
       " [datetime.datetime(2019, 10, 7, 19, 9, 42),\n",
       "  '@Bagi56093020 @DrBurns10 @HouseForeign With the unilateral revocation of article 370 by India that accession has now ended therefore, #Kashmir is no more part of India, it’s now occupied by India. It’s you who needs history lessons',\n",
       "  'annrosh_',\n",
       "  ['Kashmir'],\n",
       "  72]]"
      ]
     },
     "execution_count": 5,
     "metadata": {},
     "output_type": "execute_result"
    }
   ],
   "source": [
    "new_ls[:2]"
   ]
  },
  {
   "cell_type": "code",
   "execution_count": 232,
   "metadata": {},
   "outputs": [],
   "source": [
    "df=pd.DataFrame(new_ls,columns=['Timestamp','Tweet','User','Hashtag','FollowersCount'])"
   ]
  },
  {
   "cell_type": "code",
   "execution_count": 233,
   "metadata": {},
   "outputs": [],
   "source": [
    "pd.set_option(\"display.max_colwidth\",-1)"
   ]
  },
  {
   "cell_type": "code",
   "execution_count": 234,
   "metadata": {},
   "outputs": [
    {
     "data": {
      "text/html": [
       "<div>\n",
       "<style scoped>\n",
       "    .dataframe tbody tr th:only-of-type {\n",
       "        vertical-align: middle;\n",
       "    }\n",
       "\n",
       "    .dataframe tbody tr th {\n",
       "        vertical-align: top;\n",
       "    }\n",
       "\n",
       "    .dataframe thead th {\n",
       "        text-align: right;\n",
       "    }\n",
       "</style>\n",
       "<table border=\"1\" class=\"dataframe\">\n",
       "  <thead>\n",
       "    <tr style=\"text-align: right;\">\n",
       "      <th></th>\n",
       "      <th>Timestamp</th>\n",
       "      <th>Tweet</th>\n",
       "      <th>User</th>\n",
       "      <th>Hashtag</th>\n",
       "      <th>FollowersCount</th>\n",
       "    </tr>\n",
       "  </thead>\n",
       "  <tbody>\n",
       "    <tr>\n",
       "      <th>0</th>\n",
       "      <td>2019-10-07 21:36:42</td>\n",
       "      <td>Kashmir: In #BurhanWani’s Home, No One Speaks Of Article 370  An afternoon with Burhan Wani’s family, post #Article370  #LetKashmirSpeak  @UN @antonioguterres @FedericaMog @MBachelet @UNHumanRights @HRW @MushaalMullick @peaceforchange @SoStarMusic #Kashmir https://t.co/rMTrkZ7roY</td>\n",
       "      <td>HumanRightsPath</td>\n",
       "      <td>[BurhanWani, Article370, LetKashmirSpeak, Kashmir]</td>\n",
       "      <td>18485</td>\n",
       "    </tr>\n",
       "    <tr>\n",
       "      <th>1</th>\n",
       "      <td>2019-10-07 19:09:42</td>\n",
       "      <td>@Bagi56093020 @DrBurns10 @HouseForeign With the unilateral revocation of article 370 by India that accession has now ended therefore, #Kashmir is no more part of India, it’s now occupied by India. It’s you who needs history lessons</td>\n",
       "      <td>annrosh_</td>\n",
       "      <td>[Kashmir]</td>\n",
       "      <td>72</td>\n",
       "    </tr>\n",
       "    <tr>\n",
       "      <th>2</th>\n",
       "      <td>2019-10-07 19:01:07</td>\n",
       "      <td>LGBT activists storm anti-India meeting in London which Kavita Krishnan was attending. Gay, lesbian activists support scrapping of homophobic Article 370. This is an aspect of #Kashmir that jihad apologists will never speak about. https://t.co/Nsq7N5ywnU</td>\n",
       "      <td>abhijitmajumder</td>\n",
       "      <td>[Kashmir]</td>\n",
       "      <td>530333</td>\n",
       "    </tr>\n",
       "    <tr>\n",
       "      <th>3</th>\n",
       "      <td>2019-10-07 18:44:10</td>\n",
       "      <td>@HouseForeign Abrogation of article 370 IS to provide equal rights to all Kashmiris (including women, LGBT, Minorities) Do your homework before spewing venom with half baked knowledge!!! #Kashmir</td>\n",
       "      <td>nakshatra1812</td>\n",
       "      <td>[Kashmir]</td>\n",
       "      <td>169</td>\n",
       "    </tr>\n",
       "    <tr>\n",
       "      <th>4</th>\n",
       "      <td>2019-10-07 16:58:38</td>\n",
       "      <td>@Abhishek_0305 @KashmirOsint Because of #Kashmir, Jammu and Ladakh never saw any development. 370 was a violation of their democratic rights, yet people keep focusing only on #Kashmir as if they are some special species different other humans. Shame</td>\n",
       "      <td>AamTweet</td>\n",
       "      <td>[Kashmir, Kashmir]</td>\n",
       "      <td>23</td>\n",
       "    </tr>\n",
       "  </tbody>\n",
       "</table>\n",
       "</div>"
      ],
      "text/plain": [
       "            Timestamp  \\\n",
       "0 2019-10-07 21:36:42   \n",
       "1 2019-10-07 19:09:42   \n",
       "2 2019-10-07 19:01:07   \n",
       "3 2019-10-07 18:44:10   \n",
       "4 2019-10-07 16:58:38   \n",
       "\n",
       "                                                                                                                                                                                                                                                                                      Tweet  \\\n",
       "0  Kashmir: In #BurhanWani’s Home, No One Speaks Of Article 370  An afternoon with Burhan Wani’s family, post #Article370  #LetKashmirSpeak  @UN @antonioguterres @FedericaMog @MBachelet @UNHumanRights @HRW @MushaalMullick @peaceforchange @SoStarMusic #Kashmir https://t.co/rMTrkZ7roY   \n",
       "1  @Bagi56093020 @DrBurns10 @HouseForeign With the unilateral revocation of article 370 by India that accession has now ended therefore, #Kashmir is no more part of India, it’s now occupied by India. It’s you who needs history lessons                                                    \n",
       "2  LGBT activists storm anti-India meeting in London which Kavita Krishnan was attending. Gay, lesbian activists support scrapping of homophobic Article 370. This is an aspect of #Kashmir that jihad apologists will never speak about. https://t.co/Nsq7N5ywnU                             \n",
       "3  @HouseForeign Abrogation of article 370 IS to provide equal rights to all Kashmiris (including women, LGBT, Minorities) Do your homework before spewing venom with half baked knowledge!!! #Kashmir                                                                                        \n",
       "4  @Abhishek_0305 @KashmirOsint Because of #Kashmir, Jammu and Ladakh never saw any development. 370 was a violation of their democratic rights, yet people keep focusing only on #Kashmir as if they are some special species different other humans. Shame                                  \n",
       "\n",
       "              User                                             Hashtag  \\\n",
       "0  HumanRightsPath  [BurhanWani, Article370, LetKashmirSpeak, Kashmir]   \n",
       "1  annrosh_         [Kashmir]                                            \n",
       "2  abhijitmajumder  [Kashmir]                                            \n",
       "3  nakshatra1812    [Kashmir]                                            \n",
       "4  AamTweet         [Kashmir, Kashmir]                                   \n",
       "\n",
       "   FollowersCount  \n",
       "0  18485           \n",
       "1  72              \n",
       "2  530333          \n",
       "3  169             \n",
       "4  23              "
      ]
     },
     "execution_count": 234,
     "metadata": {},
     "output_type": "execute_result"
    }
   ],
   "source": [
    "df.head()"
   ]
  },
  {
   "cell_type": "code",
   "execution_count": 16,
   "metadata": {},
   "outputs": [],
   "source": [
    "positive_words=pd.read_table(\"positive-words.txt\")"
   ]
  },
  {
   "cell_type": "code",
   "execution_count": 21,
   "metadata": {},
   "outputs": [],
   "source": [
    "negative_words=pd.read_csv(\"negative-words.txt\")"
   ]
  },
  {
   "cell_type": "markdown",
   "metadata": {},
   "source": [
    "## Clean the Data "
   ]
  },
  {
   "cell_type": "code",
   "execution_count": 235,
   "metadata": {},
   "outputs": [],
   "source": [
    "import re\n",
    "l=[]\n",
    "for i in df.Tweet:\n",
    "    text=re.sub(\"(@[\\w]*)|(#[\\w]*)\",'',i)\n",
    "#     text=re.sub(r'@[\\w]*','',i)\n",
    "#     text=re.sub(r'#[\\w]*','',text)\n",
    "#     text=re.sub(r'\\w+:\\/\\/\\S+*','',text)\n",
    "    text=\" \".join(text.split())\n",
    "    l.append(text.strip())"
   ]
  },
  {
   "cell_type": "code",
   "execution_count": 236,
   "metadata": {},
   "outputs": [
    {
     "data": {
      "text/plain": [
       "['Kashmir: In ’s Home, No One Speaks Of Article 370 An afternoon with Burhan Wani’s family, post https://t.co/rMTrkZ7roY',\n",
       " 'With the unilateral revocation of article 370 by India that accession has now ended therefore, is no more part of India, it’s now occupied by India. It’s you who needs history lessons']"
      ]
     },
     "execution_count": 236,
     "metadata": {},
     "output_type": "execute_result"
    }
   ],
   "source": [
    "l[:2]"
   ]
  },
  {
   "cell_type": "code",
   "execution_count": 237,
   "metadata": {},
   "outputs": [],
   "source": [
    "m=[]\n",
    "for i in l:\n",
    "    text=re.sub(r'\\w+:\\/\\/\\S+','',i)\n",
    "    text=\" \".join(text.split())\n",
    "    m.append(text)"
   ]
  },
  {
   "cell_type": "code",
   "execution_count": 238,
   "metadata": {},
   "outputs": [
    {
     "data": {
      "text/plain": [
       "'\"I visited the suburb of Anchaar on the outskirts of Srinagar from 25 September through 27 September. The people there are desperate and resilient,\" writes as she brings us images from .'"
      ]
     },
     "execution_count": 238,
     "metadata": {},
     "output_type": "execute_result"
    }
   ],
   "source": [
    "m[30]"
   ]
  },
  {
   "cell_type": "code",
   "execution_count": 239,
   "metadata": {},
   "outputs": [],
   "source": [
    "df.Tweet=m"
   ]
  },
  {
   "cell_type": "code",
   "execution_count": 240,
   "metadata": {},
   "outputs": [],
   "source": [
    "p=[]\n",
    "for i in df.Tweet:\n",
    "#     text=re.sub(r'!','',i)\n",
    "#     text=re.sub(r'\\(','',text)\n",
    "#     text=re.sub(r'\\)','',text)\n",
    "    text=re.sub(r'[!\\(\\),\\?;:]','',i)\n",
    "    p.append(text)"
   ]
  },
  {
   "cell_type": "code",
   "execution_count": 241,
   "metadata": {},
   "outputs": [
    {
     "data": {
      "text/plain": [
       "'Abrogation of article 370 IS to provide equal rights to all Kashmiris including women LGBT Minorities Do your homework before spewing venom with half baked knowledge'"
      ]
     },
     "execution_count": 241,
     "metadata": {},
     "output_type": "execute_result"
    }
   ],
   "source": [
    "p[3]"
   ]
  },
  {
   "cell_type": "code",
   "execution_count": 242,
   "metadata": {},
   "outputs": [],
   "source": [
    "df.Tweet=p"
   ]
  },
  {
   "cell_type": "markdown",
   "metadata": {},
   "source": [
    "## Assign Sentiment using TextBlob"
   ]
  },
  {
   "cell_type": "code",
   "execution_count": 79,
   "metadata": {},
   "outputs": [],
   "source": [
    "from textblob import TextBlob"
   ]
  },
  {
   "cell_type": "code",
   "execution_count": 243,
   "metadata": {},
   "outputs": [],
   "source": [
    "sentiment=[]\n",
    "for i in df.Tweet:\n",
    "    i = TextBlob(i)\n",
    "    if i.sentiment.polarity >0:\n",
    "        sentiment.append(2)\n",
    "        #print(\"Positive\")\n",
    "    elif i.sentiment.polarity ==0:\n",
    "        sentiment.append(1)\n",
    "        #print(\"Neutral\")\n",
    "    else:\n",
    "        sentiment.append(0)\n",
    "        #print(\"Negative\")"
   ]
  },
  {
   "cell_type": "code",
   "execution_count": 244,
   "metadata": {},
   "outputs": [],
   "source": [
    "df['sentiment']=sentiment"
   ]
  },
  {
   "cell_type": "code",
   "execution_count": 245,
   "metadata": {},
   "outputs": [
    {
     "data": {
      "text/html": [
       "<div>\n",
       "<style scoped>\n",
       "    .dataframe tbody tr th:only-of-type {\n",
       "        vertical-align: middle;\n",
       "    }\n",
       "\n",
       "    .dataframe tbody tr th {\n",
       "        vertical-align: top;\n",
       "    }\n",
       "\n",
       "    .dataframe thead th {\n",
       "        text-align: right;\n",
       "    }\n",
       "</style>\n",
       "<table border=\"1\" class=\"dataframe\">\n",
       "  <thead>\n",
       "    <tr style=\"text-align: right;\">\n",
       "      <th></th>\n",
       "      <th>Timestamp</th>\n",
       "      <th>Tweet</th>\n",
       "      <th>User</th>\n",
       "      <th>Hashtag</th>\n",
       "      <th>FollowersCount</th>\n",
       "      <th>sentiment</th>\n",
       "    </tr>\n",
       "  </thead>\n",
       "  <tbody>\n",
       "    <tr>\n",
       "      <th>0</th>\n",
       "      <td>2019-10-07 21:36:42</td>\n",
       "      <td>Kashmir In ’s Home No One Speaks Of Article 370 An afternoon with Burhan Wani’s family post</td>\n",
       "      <td>HumanRightsPath</td>\n",
       "      <td>[BurhanWani, Article370, LetKashmirSpeak, Kashmir]</td>\n",
       "      <td>18485</td>\n",
       "      <td>1</td>\n",
       "    </tr>\n",
       "    <tr>\n",
       "      <th>1</th>\n",
       "      <td>2019-10-07 19:09:42</td>\n",
       "      <td>With the unilateral revocation of article 370 by India that accession has now ended therefore is no more part of India it’s now occupied by India. It’s you who needs history lessons</td>\n",
       "      <td>annrosh_</td>\n",
       "      <td>[Kashmir]</td>\n",
       "      <td>72</td>\n",
       "      <td>0</td>\n",
       "    </tr>\n",
       "    <tr>\n",
       "      <th>2</th>\n",
       "      <td>2019-10-07 19:01:07</td>\n",
       "      <td>LGBT activists storm anti-India meeting in London which Kavita Krishnan was attending. Gay lesbian activists support scrapping of homophobic Article 370. This is an aspect of that jihad apologists will never speak about.</td>\n",
       "      <td>abhijitmajumder</td>\n",
       "      <td>[Kashmir]</td>\n",
       "      <td>530333</td>\n",
       "      <td>2</td>\n",
       "    </tr>\n",
       "    <tr>\n",
       "      <th>3</th>\n",
       "      <td>2019-10-07 18:44:10</td>\n",
       "      <td>Abrogation of article 370 IS to provide equal rights to all Kashmiris including women LGBT Minorities Do your homework before spewing venom with half baked knowledge</td>\n",
       "      <td>nakshatra1812</td>\n",
       "      <td>[Kashmir]</td>\n",
       "      <td>169</td>\n",
       "      <td>0</td>\n",
       "    </tr>\n",
       "    <tr>\n",
       "      <th>4</th>\n",
       "      <td>2019-10-07 16:58:38</td>\n",
       "      <td>Because of  Jammu and Ladakh never saw any development. 370 was a violation of their democratic rights yet people keep focusing only on as if they are some special species different other humans. Shame</td>\n",
       "      <td>AamTweet</td>\n",
       "      <td>[Kashmir, Kashmir]</td>\n",
       "      <td>23</td>\n",
       "      <td>2</td>\n",
       "    </tr>\n",
       "  </tbody>\n",
       "</table>\n",
       "</div>"
      ],
      "text/plain": [
       "            Timestamp  \\\n",
       "0 2019-10-07 21:36:42   \n",
       "1 2019-10-07 19:09:42   \n",
       "2 2019-10-07 19:01:07   \n",
       "3 2019-10-07 18:44:10   \n",
       "4 2019-10-07 16:58:38   \n",
       "\n",
       "                                                                                                                                                                                                                          Tweet  \\\n",
       "0  Kashmir In ’s Home No One Speaks Of Article 370 An afternoon with Burhan Wani’s family post                                                                                                                                    \n",
       "1  With the unilateral revocation of article 370 by India that accession has now ended therefore is no more part of India it’s now occupied by India. It’s you who needs history lessons                                          \n",
       "2  LGBT activists storm anti-India meeting in London which Kavita Krishnan was attending. Gay lesbian activists support scrapping of homophobic Article 370. This is an aspect of that jihad apologists will never speak about.   \n",
       "3  Abrogation of article 370 IS to provide equal rights to all Kashmiris including women LGBT Minorities Do your homework before spewing venom with half baked knowledge                                                          \n",
       "4  Because of  Jammu and Ladakh never saw any development. 370 was a violation of their democratic rights yet people keep focusing only on as if they are some special species different other humans. Shame                      \n",
       "\n",
       "              User                                             Hashtag  \\\n",
       "0  HumanRightsPath  [BurhanWani, Article370, LetKashmirSpeak, Kashmir]   \n",
       "1  annrosh_         [Kashmir]                                            \n",
       "2  abhijitmajumder  [Kashmir]                                            \n",
       "3  nakshatra1812    [Kashmir]                                            \n",
       "4  AamTweet         [Kashmir, Kashmir]                                   \n",
       "\n",
       "   FollowersCount  sentiment  \n",
       "0  18485           1          \n",
       "1  72              0          \n",
       "2  530333          2          \n",
       "3  169             0          \n",
       "4  23              2          "
      ]
     },
     "execution_count": 245,
     "metadata": {},
     "output_type": "execute_result"
    }
   ],
   "source": [
    "df.head()"
   ]
  },
  {
   "cell_type": "code",
   "execution_count": 246,
   "metadata": {},
   "outputs": [],
   "source": [
    "Tweet=list(df['Tweet'].str.lower())"
   ]
  },
  {
   "cell_type": "code",
   "execution_count": 247,
   "metadata": {},
   "outputs": [
    {
     "data": {
      "text/plain": [
       "['kashmir in ’s home no one speaks of article 370 an afternoon with burhan wani’s family post',\n",
       " 'with the unilateral revocation of article 370 by india that accession has now ended therefore is no more part of india it’s now occupied by india. it’s you who needs history lessons',\n",
       " 'lgbt activists storm anti-india meeting in london which kavita krishnan was attending. gay lesbian activists support scrapping of homophobic article 370. this is an aspect of that jihad apologists will never speak about.']"
      ]
     },
     "execution_count": 247,
     "metadata": {},
     "output_type": "execute_result"
    }
   ],
   "source": [
    "Tweet[:3]"
   ]
  },
  {
   "cell_type": "markdown",
   "metadata": {},
   "source": [
    "## Remove the stopwords"
   ]
  },
  {
   "cell_type": "code",
   "execution_count": 248,
   "metadata": {},
   "outputs": [],
   "source": [
    "from sklearn.feature_extraction.text import TfidfVectorizer\n",
    "from sklearn.decomposition import TruncatedSVD\n",
    "from nltk.corpus import stopwords\n",
    "SW = set(stopwords.words('english'))\n",
    "import spacy"
   ]
  },
  {
   "cell_type": "code",
   "execution_count": 249,
   "metadata": {},
   "outputs": [],
   "source": [
    "nlp=spacy.load(\"en_core_web_md\")"
   ]
  },
  {
   "cell_type": "code",
   "execution_count": 250,
   "metadata": {},
   "outputs": [
    {
     "data": {
      "text/plain": [
       "['kashmir in ’s home no one speaks of article 370 an afternoon with burhan wani’s family post',\n",
       " 'with the unilateral revocation of article 370 by india that accession has now ended therefore is no more part of india it’s now occupied by india. it’s you who needs history lessons',\n",
       " 'lgbt activists storm anti-india meeting in london which kavita krishnan was attending. gay lesbian activists support scrapping of homophobic article 370. this is an aspect of that jihad apologists will never speak about.']"
      ]
     },
     "execution_count": 250,
     "metadata": {},
     "output_type": "execute_result"
    }
   ],
   "source": [
    "Tweet[:3]"
   ]
  },
  {
   "cell_type": "code",
   "execution_count": 251,
   "metadata": {},
   "outputs": [],
   "source": [
    "corpus=[]\n",
    "for i in nlp.pipe(Tweet):\n",
    "    doc_new=[]\n",
    "    #doc1=nlp(i)\n",
    "    for token in i:\n",
    "        #print(i.pos_)\n",
    "        if token.is_alpha and not(token.is_stop) and not(token.lemma_ in SW) and not(token.lemma_==\"-PRON-\"):\n",
    "            doc_new.append(token.lemma_)\n",
    "    corpus.append(\" \".join(doc_new).strip())"
   ]
  },
  {
   "cell_type": "code",
   "execution_count": 252,
   "metadata": {},
   "outputs": [
    {
     "data": {
      "text/plain": [
       "'lgbt activist storm anti india meeting london kavita krishnan attend gay lesbian activist support scrapping homophobic article aspect jihad apologist speak'"
      ]
     },
     "execution_count": 252,
     "metadata": {},
     "output_type": "execute_result"
    }
   ],
   "source": [
    "corpus[2]"
   ]
  },
  {
   "cell_type": "code",
   "execution_count": null,
   "metadata": {},
   "outputs": [],
   "source": []
  },
  {
   "cell_type": "markdown",
   "metadata": {},
   "source": [
    "## Train-Test Split"
   ]
  },
  {
   "cell_type": "code",
   "execution_count": 257,
   "metadata": {},
   "outputs": [],
   "source": [
    "from sklearn.model_selection import train_test_split\n",
    "X_train, X_test, y_train, y_test = train_test_split(corpus, df.sentiment, stratify = df.sentiment, test_size = 0.3, random_state = 0)"
   ]
  },
  {
   "cell_type": "code",
   "execution_count": 258,
   "metadata": {},
   "outputs": [],
   "source": [
    "from sklearn.feature_extraction.text import TfidfVectorizer\n",
    "tfidfVec = TfidfVectorizer().fit(X_train)"
   ]
  },
  {
   "cell_type": "code",
   "execution_count": 262,
   "metadata": {},
   "outputs": [],
   "source": [
    "X_train = tfidfVec.transform(X_train)\n",
    "X_test = tfidfVec.transform(X_test)"
   ]
  },
  {
   "cell_type": "code",
   "execution_count": 263,
   "metadata": {},
   "outputs": [
    {
     "data": {
      "text/plain": [
       "2    20\n",
       "0    12\n",
       "1    10\n",
       "Name: sentiment, dtype: int64"
      ]
     },
     "execution_count": 263,
     "metadata": {},
     "output_type": "execute_result"
    }
   ],
   "source": [
    "y_train.value_counts()"
   ]
  },
  {
   "cell_type": "code",
   "execution_count": 264,
   "metadata": {},
   "outputs": [
    {
     "data": {
      "text/plain": [
       "2    9\n",
       "0    5\n",
       "1    4\n",
       "Name: sentiment, dtype: int64"
      ]
     },
     "execution_count": 264,
     "metadata": {},
     "output_type": "execute_result"
    }
   ],
   "source": [
    "y_test.value_counts()"
   ]
  },
  {
   "cell_type": "markdown",
   "metadata": {},
   "source": [
    "## SMOTE"
   ]
  },
  {
   "cell_type": "markdown",
   "metadata": {},
   "source": [
    "### Multinomial Naive Bayes"
   ]
  },
  {
   "cell_type": "code",
   "execution_count": 268,
   "metadata": {},
   "outputs": [
    {
     "name": "stdout",
     "output_type": "stream",
     "text": [
      "Statistics for classification are as follows: \n",
      "\n",
      "              precision    recall  f1-score   support\n",
      "\n",
      "           0       0.33      0.20      0.25         5\n",
      "           1       0.17      0.25      0.20         4\n",
      "           2       0.56      0.56      0.56         9\n",
      "\n",
      "   micro avg       0.39      0.39      0.39        18\n",
      "   macro avg       0.35      0.34      0.34        18\n",
      "weighted avg       0.41      0.39      0.39        18\n",
      "\n",
      "\n"
     ]
    }
   ],
   "source": [
    "import imblearn as imb\n",
    "from imblearn.over_sampling import SMOTE\n",
    "from sklearn.naive_bayes import MultinomialNB\n",
    "from sklearn.metrics import roc_auc_score, classification_report\n",
    "\n",
    "SMT = SMOTE()\n",
    "\n",
    "X_t, y_t = SMT.fit_sample(X_train, y_train)\n",
    "\n",
    "MNB = MultinomialNB().fit(X_t, y_t)\n",
    "y_pred_SMOTE = MNB.predict(X_test)\n",
    "\n",
    "print(\"Statistics for classification are as follows: \\n\\n{}\\n\".format(classification_report(y_test, y_pred_SMOTE)))\n",
    "#print(\"ROC AUC Score {}\".format(roc_auc_score(y_test, y_pred_SMOTE)))"
   ]
  },
  {
   "cell_type": "markdown",
   "metadata": {},
   "source": [
    "### Logistic Regression"
   ]
  },
  {
   "cell_type": "code",
   "execution_count": 219,
   "metadata": {},
   "outputs": [
    {
     "name": "stderr",
     "output_type": "stream",
     "text": [
      "C:\\Users\\sneha chikhalekar\\Anaconda3\\lib\\site-packages\\sklearn\\linear_model\\logistic.py:433: FutureWarning: Default solver will be changed to 'lbfgs' in 0.22. Specify a solver to silence this warning.\n",
      "  FutureWarning)\n"
     ]
    }
   ],
   "source": [
    "from sklearn.linear_model import LogisticRegression\n",
    "from sklearn.metrics import roc_curve\n",
    "\n",
    "clfr = LogisticRegression(C = 100)\n",
    "clfr.fit(X_t, y_t)\n",
    "\n",
    "y_pred_proba = clfr.predict_proba(X_test)\n",
    "y_prob = []\n",
    "for i in y_pred_proba:\n",
    "    y_prob.append(i[1])\n",
    "\n",
    "fpr, tpr, thr = roc_curve(y_test, y_prob, pos_label = 1)"
   ]
  },
  {
   "cell_type": "markdown",
   "metadata": {},
   "source": [
    "## Normal Multinomial naive bayes"
   ]
  },
  {
   "cell_type": "code",
   "execution_count": 266,
   "metadata": {},
   "outputs": [
    {
     "name": "stderr",
     "output_type": "stream",
     "text": [
      "C:\\Users\\sneha chikhalekar\\Anaconda3\\lib\\site-packages\\sklearn\\metrics\\classification.py:1143: UndefinedMetricWarning: Precision and F-score are ill-defined and being set to 0.0 in labels with no predicted samples.\n",
      "  'precision', 'predicted', average, warn_for)\n"
     ]
    },
    {
     "name": "stdout",
     "output_type": "stream",
     "text": [
      "Statistics for classification are as follows: \n",
      "\n",
      "              precision    recall  f1-score   support\n",
      "\n",
      "           0       0.00      0.00      0.00         5\n",
      "           1       0.00      0.00      0.00         4\n",
      "           2       0.50      1.00      0.67         9\n",
      "\n",
      "   micro avg       0.50      0.50      0.50        18\n",
      "   macro avg       0.17      0.33      0.22        18\n",
      "weighted avg       0.25      0.50      0.33        18\n",
      "\n",
      "\n"
     ]
    }
   ],
   "source": [
    "from sklearn.naive_bayes import MultinomialNB\n",
    "\n",
    "from sklearn.metrics import roc_auc_score, classification_report\n",
    "MNB = MultinomialNB().fit(X_train, y_train)\n",
    "y_pred = MNB.predict(X_test)\n",
    "\n",
    "print(\"Statistics for classification are as follows: \\n\\n{}\\n\".format(classification_report(y_test, y_pred)))\n",
    "#print(\"ROC AUC Score {}\".format(roc_auc_score(y_test, y_pred)))"
   ]
  },
  {
   "cell_type": "code",
   "execution_count": 316,
   "metadata": {},
   "outputs": [
    {
     "data": {
      "text/html": [
       "<div>\n",
       "<style scoped>\n",
       "    .dataframe tbody tr th:only-of-type {\n",
       "        vertical-align: middle;\n",
       "    }\n",
       "\n",
       "    .dataframe tbody tr th {\n",
       "        vertical-align: top;\n",
       "    }\n",
       "\n",
       "    .dataframe thead th {\n",
       "        text-align: right;\n",
       "    }\n",
       "</style>\n",
       "<table border=\"1\" class=\"dataframe\">\n",
       "  <thead>\n",
       "    <tr style=\"text-align: right;\">\n",
       "      <th></th>\n",
       "      <th>Tweet</th>\n",
       "      <th>Prediction</th>\n",
       "      <th>Test</th>\n",
       "    </tr>\n",
       "  </thead>\n",
       "  <tbody>\n",
       "    <tr>\n",
       "      <th>56</th>\n",
       "      <td>pakistan fuel kashmir separatism article people happy javadekar gt sure people talk accord info siege food amp med leave</td>\n",
       "      <td>2</td>\n",
       "      <td>2</td>\n",
       "    </tr>\n",
       "    <tr>\n",
       "      <th>21</th>\n",
       "      <td>abrogation article unacceptable say nagaland leader</td>\n",
       "      <td>1</td>\n",
       "      <td>1</td>\n",
       "    </tr>\n",
       "    <tr>\n",
       "      <th>12</th>\n",
       "      <td>new normal glimpse image anchaar</td>\n",
       "      <td>2</td>\n",
       "      <td>2</td>\n",
       "    </tr>\n",
       "    <tr>\n",
       "      <th>40</th>\n",
       "      <td>today mark month revoke read theprint write day ago situation currently show security force high alert kid avoid school free movement access internet</td>\n",
       "      <td>2</td>\n",
       "      <td>2</td>\n",
       "    </tr>\n",
       "    <tr>\n",
       "      <th>5</th>\n",
       "      <td>finally bar tourist lift</td>\n",
       "      <td>2</td>\n",
       "      <td>1</td>\n",
       "    </tr>\n",
       "    <tr>\n",
       "      <th>15</th>\n",
       "      <td>people stop discuss article demand govt restore scrap special status suffering cross limit gloom amp disappointment people want fight issue resolve</td>\n",
       "      <td>1</td>\n",
       "      <td>2</td>\n",
       "    </tr>\n",
       "    <tr>\n",
       "      <th>39</th>\n",
       "      <td>want peace stability development matter art thing mention matter region prosper</td>\n",
       "      <td>1</td>\n",
       "      <td>2</td>\n",
       "    </tr>\n",
       "    <tr>\n",
       "      <th>17</th>\n",
       "      <td>bring resistance face world</td>\n",
       "      <td>0</td>\n",
       "      <td>1</td>\n",
       "    </tr>\n",
       "    <tr>\n",
       "      <th>44</th>\n",
       "      <td>lawmaker amp congress delegation visit hand condition local result article india lawmaker visit pok assess situation india article flipboard</td>\n",
       "      <td>0</td>\n",
       "      <td>2</td>\n",
       "    </tr>\n",
       "    <tr>\n",
       "      <th>2</th>\n",
       "      <td>lgbt activist storm anti india meeting london kavita krishnan attend gay lesbian activist support scrapping homophobic article aspect jihad apologist speak</td>\n",
       "      <td>2</td>\n",
       "      <td>2</td>\n",
       "    </tr>\n",
       "    <tr>\n",
       "      <th>50</th>\n",
       "      <td>issue football crap mate u idea u guy hv report completely false amp misleading figure gang rape victim amp civilian casualty abrogation article indian state</td>\n",
       "      <td>2</td>\n",
       "      <td>0</td>\n",
       "    </tr>\n",
       "    <tr>\n",
       "      <th>45</th>\n",
       "      <td>mainstream political party politician traditionally main bulwark hardcore separatist valley</td>\n",
       "      <td>1</td>\n",
       "      <td>2</td>\n",
       "    </tr>\n",
       "    <tr>\n",
       "      <th>36</th>\n",
       "      <td>eminent social activist want ascertain ground reality abrogation article detain srinagar airport send new delhi</td>\n",
       "      <td>2</td>\n",
       "      <td>2</td>\n",
       "    </tr>\n",
       "    <tr>\n",
       "      <th>42</th>\n",
       "      <td>shehla rashid activist attend jnusu protest abrogation article shutdown today</td>\n",
       "      <td>1</td>\n",
       "      <td>0</td>\n",
       "    </tr>\n",
       "    <tr>\n",
       "      <th>19</th>\n",
       "      <td>sanghis scrap article justify cage lie sc judgement ipc apply acc ex hc judge sanghis homophobe support movement scrap sec leftist movement</td>\n",
       "      <td>1</td>\n",
       "      <td>0</td>\n",
       "    </tr>\n",
       "    <tr>\n",
       "      <th>1</th>\n",
       "      <td>unilateral revocation article india accession end india occupy india need history lesson</td>\n",
       "      <td>0</td>\n",
       "      <td>0</td>\n",
       "    </tr>\n",
       "    <tr>\n",
       "      <th>13</th>\n",
       "      <td>sir program evaluation performance foreign ministery foreign ministry post point point actually</td>\n",
       "      <td>2</td>\n",
       "      <td>0</td>\n",
       "    </tr>\n",
       "    <tr>\n",
       "      <th>41</th>\n",
       "      <td>article kashmir petition wake supreme court india constitutional democracy backslide note scholar argue nrc exercise assam</td>\n",
       "      <td>2</td>\n",
       "      <td>1</td>\n",
       "    </tr>\n",
       "  </tbody>\n",
       "</table>\n",
       "</div>"
      ],
      "text/plain": [
       "                                                                                                                                                            Tweet  \\\n",
       "56  pakistan fuel kashmir separatism article people happy javadekar gt sure people talk accord info siege food amp med leave                                        \n",
       "21  abrogation article unacceptable say nagaland leader                                                                                                             \n",
       "12  new normal glimpse image anchaar                                                                                                                                \n",
       "40  today mark month revoke read theprint write day ago situation currently show security force high alert kid avoid school free movement access internet           \n",
       "5   finally bar tourist lift                                                                                                                                        \n",
       "15  people stop discuss article demand govt restore scrap special status suffering cross limit gloom amp disappointment people want fight issue resolve             \n",
       "39  want peace stability development matter art thing mention matter region prosper                                                                                 \n",
       "17  bring resistance face world                                                                                                                                     \n",
       "44  lawmaker amp congress delegation visit hand condition local result article india lawmaker visit pok assess situation india article flipboard                    \n",
       "2   lgbt activist storm anti india meeting london kavita krishnan attend gay lesbian activist support scrapping homophobic article aspect jihad apologist speak     \n",
       "50  issue football crap mate u idea u guy hv report completely false amp misleading figure gang rape victim amp civilian casualty abrogation article indian state   \n",
       "45  mainstream political party politician traditionally main bulwark hardcore separatist valley                                                                     \n",
       "36  eminent social activist want ascertain ground reality abrogation article detain srinagar airport send new delhi                                                 \n",
       "42  shehla rashid activist attend jnusu protest abrogation article shutdown today                                                                                   \n",
       "19  sanghis scrap article justify cage lie sc judgement ipc apply acc ex hc judge sanghis homophobe support movement scrap sec leftist movement                     \n",
       "1   unilateral revocation article india accession end india occupy india need history lesson                                                                        \n",
       "13  sir program evaluation performance foreign ministery foreign ministry post point point actually                                                                 \n",
       "41  article kashmir petition wake supreme court india constitutional democracy backslide note scholar argue nrc exercise assam                                      \n",
       "\n",
       "    Prediction  Test  \n",
       "56  2           2     \n",
       "21  1           1     \n",
       "12  2           2     \n",
       "40  2           2     \n",
       "5   2           1     \n",
       "15  1           2     \n",
       "39  1           2     \n",
       "17  0           1     \n",
       "44  0           2     \n",
       "2   2           2     \n",
       "50  2           0     \n",
       "45  1           2     \n",
       "36  2           2     \n",
       "42  1           0     \n",
       "19  1           0     \n",
       "1   0           0     \n",
       "13  2           0     \n",
       "41  2           1     "
      ]
     },
     "execution_count": 316,
     "metadata": {},
     "output_type": "execute_result"
    }
   ],
   "source": [
    "from sklearn.model_selection import train_test_split\n",
    "X_tr, X_ts, y_tr, y_ts = train_test_split(corpus, df.sentiment, stratify = df.sentiment, test_size = 0.3, random_state = 0)\n",
    "indices = X_ts.index\n",
    "pd.DataFrame({'Tweet':X_ts, 'Prediction':y_pred_SMOTE, 'Test':y_ts})"
   ]
  },
  {
   "cell_type": "code",
   "execution_count": 315,
   "metadata": {},
   "outputs": [
    {
     "data": {
      "text/plain": [
       "['pakistan fuel kashmir separatism article people happy javadekar gt sure people talk accord info siege food amp med leave',\n",
       " 'abrogation article unacceptable say nagaland leader',\n",
       " 'new normal glimpse image anchaar']"
      ]
     },
     "execution_count": 315,
     "metadata": {},
     "output_type": "execute_result"
    }
   ],
   "source": [
    "X_ts[:3]"
   ]
  },
  {
   "cell_type": "markdown",
   "metadata": {},
   "source": [
    "## LSA"
   ]
  },
  {
   "cell_type": "code",
   "execution_count": null,
   "metadata": {},
   "outputs": [],
   "source": []
  },
  {
   "cell_type": "code",
   "execution_count": 269,
   "metadata": {},
   "outputs": [],
   "source": [
    "tfidfVec=TfidfVectorizer().fit(corpus)\n",
    "tfidfMat=tfidfVec.transform(corpus)"
   ]
  },
  {
   "cell_type": "code",
   "execution_count": 270,
   "metadata": {},
   "outputs": [
    {
     "data": {
      "text/plain": [
       "TruncatedSVD(algorithm='randomized', n_components=10, n_iter=5,\n",
       "       random_state=None, tol=0.0)"
      ]
     },
     "execution_count": 270,
     "metadata": {},
     "output_type": "execute_result"
    }
   ],
   "source": [
    "# Number of topics to extract\n",
    "# Let's select the top 10 topics\n",
    "ntopics = 10\n",
    "svd_model = TruncatedSVD(n_components = ntopics, algorithm = \"randomized\")\n",
    "svd_model.fit(tfidfMat)\n",
    "svd_model"
   ]
  },
  {
   "cell_type": "code",
   "execution_count": 271,
   "metadata": {},
   "outputs": [
    {
     "data": {
      "text/plain": [
       "(10, 521)"
      ]
     },
     "execution_count": 271,
     "metadata": {},
     "output_type": "execute_result"
    }
   ],
   "source": [
    "svd_model.components_.shape"
   ]
  },
  {
   "cell_type": "code",
   "execution_count": 272,
   "metadata": {},
   "outputs": [],
   "source": [
    "# Get the names of the features in order to figure out the important\n",
    "# terms in the respective topics in subsequent SVD analysis\n",
    "terms = tfidfVec.get_feature_names()"
   ]
  },
  {
   "cell_type": "code",
   "execution_count": 273,
   "metadata": {},
   "outputs": [
    {
     "name": "stdout",
     "output_type": "stream",
     "text": [
      "\n",
      "Topic 0: Top 5 important terms\n",
      "\n",
      "Term            Weight of Term \n",
      "normal          0.417\n",
      "people          0.256\n",
      "amp             0.241\n",
      "happy           0.241\n",
      "say             0.227\n",
      "\n",
      "Topic 1: Top 5 important terms\n",
      "\n",
      "Term            Weight of Term \n",
      "kashmir         0.338\n",
      "petition        0.315\n",
      "wake            0.315\n",
      "court           0.314\n",
      "supreme         0.314\n",
      "\n",
      "Topic 2: Top 5 important terms\n",
      "\n",
      "Term            Weight of Term \n",
      "anchaar         0.456\n",
      "image           0.431\n",
      "glimpse         0.413\n",
      "new             0.406\n",
      "normal          0.190\n",
      "\n",
      "Topic 3: Top 5 important terms\n",
      "\n",
      "Term            Weight of Term \n",
      "govt            0.235\n",
      "pm              0.234\n",
      "back            0.231\n",
      "correct         0.231\n",
      "harish          0.231\n",
      "\n",
      "Topic 4: Top 5 important terms\n",
      "\n",
      "Term            Weight of Term \n",
      "back            0.208\n",
      "correct         0.208\n",
      "harish          0.208\n",
      "mistake         0.208\n",
      "salve           0.208\n",
      "\n",
      "Topic 5: Top 5 important terms\n",
      "\n",
      "Term            Weight of Term \n",
      "india           0.394\n",
      "pm              0.115\n",
      "back            0.115\n",
      "correct         0.115\n",
      "harish          0.115\n",
      "\n",
      "Topic 6: Top 5 important terms\n",
      "\n",
      "Term            Weight of Term \n",
      "amp             0.300\n",
      "jammu           0.230\n",
      "bjp             0.191\n",
      "people          0.185\n",
      "cm              0.154\n",
      "\n",
      "Topic 7: Top 5 important terms\n",
      "\n",
      "Term            Weight of Term \n",
      "write           0.171\n",
      "matter          0.160\n",
      "art             0.151\n",
      "school          0.147\n",
      "desperate       0.143\n",
      "\n",
      "Topic 8: Top 5 important terms\n",
      "\n",
      "Term            Weight of Term \n",
      "art             0.297\n",
      "bjp             0.253\n",
      "campaign        0.188\n",
      "center          0.188\n",
      "repeal          0.188\n",
      "\n",
      "Topic 9: Top 5 important terms\n",
      "\n",
      "Term            Weight of Term \n",
      "gay             0.207\n",
      "activist        0.191\n",
      "jammu           0.146\n",
      "bjp             0.125\n",
      "soon            0.124\n"
     ]
    }
   ],
   "source": [
    "# Get the weights of features(terms) in individual topics\n",
    "\n",
    "for i, comp in enumerate(svd_model.components_):\n",
    "    # Get a list of tuples with first entry as a term and second entry \n",
    "    # as it's weight in the ith topic\n",
    "    term_component_tuple = zip(terms, comp)\n",
    "    important_terms = sorted(term_component_tuple, key = lambda x:x[1], reverse = True)[:5]\n",
    "    print(\"\\nTopic {}: Top 5 important terms\\n\".format(str(i)))\n",
    "    print(\"{0:<15}\".format(\"Term\"), \"{0:<15}\".format(\"Weight of Term\"))\n",
    "    for i in important_terms:\n",
    "        print(\"{0:<15}\".format(i[0]), \"{:.3f}\".format(i[1])) "
   ]
  },
  {
   "cell_type": "code",
   "execution_count": null,
   "metadata": {},
   "outputs": [],
   "source": []
  }
 ],
 "metadata": {
  "anaconda-cloud": {},
  "kernelspec": {
   "display_name": "Python 3",
   "language": "python",
   "name": "python3"
  },
  "language_info": {
   "codemirror_mode": {
    "name": "ipython",
    "version": 3
   },
   "file_extension": ".py",
   "mimetype": "text/x-python",
   "name": "python",
   "nbconvert_exporter": "python",
   "pygments_lexer": "ipython3",
   "version": "3.7.1"
  },
  "toc": {
   "base_numbering": 1,
   "nav_menu": {},
   "number_sections": true,
   "sideBar": true,
   "skip_h1_title": false,
   "title_cell": "Table of Contents",
   "title_sidebar": "Contents",
   "toc_cell": false,
   "toc_position": {},
   "toc_section_display": true,
   "toc_window_display": true
  }
 },
 "nbformat": 4,
 "nbformat_minor": 1
}
